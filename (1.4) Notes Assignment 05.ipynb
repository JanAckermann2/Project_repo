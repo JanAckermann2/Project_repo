{
 "cells": [
  {
   "cell_type": "code",
   "execution_count": 20,
   "metadata": {},
   "outputs": [],
   "source": [
    "class Person:\n",
    "    \"\"\"\n",
    "    This is a Person class.\n",
    "    Each person has a name (str) and a year_of_birth (int).\n",
    "    Also, each instance of a Person can compute their own age\n",
    "    by calling .compute_age().\n",
    "    Printing a person is done calling the __str__ method: we want\n",
    "    the name of the person followed by their age in parentheses.\n",
    "    \"\"\"\n",
    "    def __init__(self, name, year_of_birth):\n",
    "        \"\"\"\n",
    "        Constructor: We have to set the name and year_of_birth.\n",
    "\n",
    "        name: str\n",
    "        year_of_birth: int\n",
    "        \"\"\"\n",
    "        self.name = name\n",
    "        self.year_of_birth = year_of_birth\n",
    "\n",
    "    def compute_age(self):\n",
    "        \"\"\"\n",
    "        We compute the age of a person by subtracting their\n",
    "        year of birth from 2022.\n",
    "        \n",
    "        (Yes, in a productive environment, you would take the current year\n",
    "        instead of a hardcoded literal 2022.)\n",
    "        \"\"\"\n",
    "        return 2022 - self.year_of_birth\n",
    "\n",
    "    def __str__(self):\n",
    "        \"\"\"\n",
    "        We use a format string to return the Person converted to a string\n",
    "        in the following format: \"Name (Age)\"\n",
    "        Example:\n",
    "            str(Person(\"Guido van Rossum\", 1956))\n",
    "            >>> \"Guido van Rossum (65)\"\n",
    "        \"\"\"\n",
    "        return f\"{self.name} ({self.compute_age()})\""
   ]
  },
  {
   "cell_type": "code",
   "execution_count": 152,
   "metadata": {},
   "outputs": [],
   "source": [
    "class Superhero(Person):\n",
    "    def __init__(self, name, year_of_birth, alias, powerlevel):\n",
    "        super().__init__(name, year_of_birth)\n",
    "        self.alias = alias\n",
    "        self.powerlevel = powerlevel\n",
    "    \n",
    "    def __repr__(self):\n",
    "        return (f'{self.alias}:{\" \":10} {self.powerlevel}')\n",
    "    \n",
    "    def __str__(self):\n",
    "         if self.powerlevel <= 0:\n",
    "            return super().__str__() + (f', {self.alias} DEFEATED')\n",
    "         else:\n",
    "            return super().__str__() + (f', {self.alias} {self.powerlevel}')\n",
    "\n",
    "    def fight(self, enemy):\n",
    "        damage_self = (enemy.powerlevel // 2)\n",
    "        damage_enemy = (self.powerlevel // 2) \n",
    "        self.powerlevel -= max(self.powerlevel - damage_self, 0)\n",
    "        enemy.powerlevel -= max(enemy.powerlevel - damage_enemy, 0)\n",
    "        print(str(self))\n",
    "        print(str(enemy))\n",
    "        \n",
    "            \n",
    "\n",
    "       \n",
    "\n"
   ]
  },
  {
   "cell_type": "code",
   "execution_count": 2,
   "metadata": {},
   "outputs": [
    {
     "name": "stdout",
     "output_type": "stream",
     "text": [
      "Test\n"
     ]
    }
   ],
   "source": [
    "print(\"Test\")"
   ]
  },
  {
   "cell_type": "code",
   "execution_count": 139,
   "metadata": {},
   "outputs": [],
   "source": [
    "bucky     = Superhero(\"Bucky Barnes\", 1917, 'Winter Soldier',   300)\n",
    "steve     = Superhero(\"Steve Rogers\",   1918, 'Captain America', 250)"
   ]
  },
  {
   "cell_type": "code",
   "execution_count": 140,
   "metadata": {},
   "outputs": [
    {
     "name": "stdout",
     "output_type": "stream",
     "text": [
      "Steve Rogers (104), Captain America 250\n",
      "Bucky Barnes (105), Winter Soldier 300\n"
     ]
    }
   ],
   "source": [
    "print(steve)\n",
    "print(bucky)"
   ]
  },
  {
   "cell_type": "code",
   "execution_count": 147,
   "metadata": {},
   "outputs": [],
   "source": [
    "Superhero.fight(bucky, steve)"
   ]
  },
  {
   "cell_type": "code",
   "execution_count": 148,
   "metadata": {},
   "outputs": [
    {
     "name": "stdout",
     "output_type": "stream",
     "text": [
      "Steve Rogers (104), Captain America -49\n",
      "Bucky Barnes (105), Winter Soldier 119\n"
     ]
    }
   ],
   "source": [
    "print(steve)\n",
    "print(bucky)"
   ]
  },
  {
   "cell_type": "code",
   "execution_count": null,
   "metadata": {},
   "outputs": [],
   "source": []
  },
  {
   "cell_type": "code",
   "execution_count": null,
   "metadata": {},
   "outputs": [],
   "source": []
  }
 ],
 "metadata": {
  "kernelspec": {
   "display_name": "Python 3",
   "language": "python",
   "name": "python3"
  },
  "language_info": {
   "codemirror_mode": {
    "name": "ipython",
    "version": 3
   },
   "file_extension": ".py",
   "mimetype": "text/x-python",
   "name": "python",
   "nbconvert_exporter": "python",
   "pygments_lexer": "ipython3",
   "version": "3.11.3"
  }
 },
 "nbformat": 4,
 "nbformat_minor": 2
}
